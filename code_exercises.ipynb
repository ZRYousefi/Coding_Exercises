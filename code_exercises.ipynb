{
 "cells": [
  {
   "cell_type": "code",
   "execution_count": null,
   "id": "bd5e3478",
   "metadata": {},
   "outputs": [],
   "source": [
    "'''This notebook is for ALgorithm interview questions!\n",
    "Created by Z. R. Yousefi'''"
   ]
  },
  {
   "cell_type": "markdown",
   "id": "ba55f7aa",
   "metadata": {},
   "source": [
    "Write a Python function to recursively read a JSON file."
   ]
  },
  {
   "cell_type": "code",
   "execution_count": null,
   "id": "47e649ee",
   "metadata": {},
   "outputs": [],
   "source": [
    "import json\n",
    "data_1 = [\n",
    "        {\n",
    "            'name' : 'John Doe',\n",
    "            'department' : 'Marketing',\n",
    "            'place' : 'Remote'\n",
    "        },\n",
    "        {\n",
    "            'name' : 'Jane Doe',\n",
    "            'department' : 'Software Engineering',\n",
    "            'place' : 'Remote'\n",
    "        },\n",
    "        {\n",
    "            'name' : 'Don Joe',\n",
    "            'department' : 'Software Engineering',\n",
    "            'place' : 'Office'\n",
    "        }\n",
    "    ]\n",
    "\n",
    "\n",
    "with open(\"data_1.json\", \"w\") as write_file:\n",
    "    json.dump(data_1, write_file)\n",
    "\n",
    "#json_string = json.dumps(data_1)"
   ]
  },
  {
   "cell_type": "code",
   "execution_count": null,
   "id": "2a6ca853",
   "metadata": {},
   "outputs": [],
   "source": [
    "with open(\"data_1.json\", \"r\") as read_file:\n",
    "    data_r_1 = json.load(read_file)"
   ]
  },
  {
   "cell_type": "code",
   "execution_count": null,
   "id": "5c7ee691",
   "metadata": {},
   "outputs": [],
   "source": [
    "print(data_r_1)"
   ]
  },
  {
   "cell_type": "code",
   "execution_count": null,
   "id": "c6c4f415",
   "metadata": {},
   "outputs": [],
   "source": [
    "# Recursive Code\n",
    "def print_json(j):\n",
    "    # Base condition\n",
    "    if len(j) == 0:\n",
    "        return\n",
    "    # Print the first item of j\n",
    "    print(j[0])\n",
    "    # Call the same function on j[1:]\n",
    "    # Skipping the first item of j in every call\n",
    "    print_json(j[1:])\n",
    "    \n",
    "print_json(data_r_1)"
   ]
  },
  {
   "cell_type": "markdown",
   "id": "fa9e6a82",
   "metadata": {},
   "source": [
    "Given an array of integers and an integer k, find the total number of continuous subarrays whose sum equals  k . The solution should have  O(N)  runtime."
   ]
  },
  {
   "cell_type": "code",
   "execution_count": null,
   "id": "b1ce437b",
   "metadata": {},
   "outputs": [],
   "source": [
    "# Naive solution Python3 program for the above approach\n",
    "arr = [ 10, 2, -2, -20, 10 ]\n",
    "n = len(arr)\n",
    "k = -10\n",
    "res = 0\n",
    " \n",
    "# Calculate all subarrays\n",
    "for i in range(n):\n",
    "    summ = 0           \n",
    "    for j in range(i, n):\n",
    "         \n",
    "        # Calculate required sum\n",
    "        summ += arr[j]\n",
    " \n",
    "        # Check if sum is equal to\n",
    "        # required sum\n",
    "        if summ == k:\n",
    "            res += 1\n",
    " \n",
    "print(res)\n",
    "\n",
    "'''Time Complexity : O(n^2)\n",
    "\n",
    "Auxiliary Space: O(1)'''"
   ]
  },
  {
   "cell_type": "code",
   "execution_count": null,
   "id": "556f2ae7",
   "metadata": {},
   "outputs": [],
   "source": [
    "from collections import defaultdict\n",
    " \n",
    "# Function to find number of subarrays \n",
    "# with sum exactly equal to k.\n",
    "def findSubarraySum(arr, k):\n",
    "  \n",
    "    # Dictionary to store number of subarrays\n",
    "    # starting from index zero having \n",
    "    # particular value of sum.\n",
    "    prevSum = defaultdict(lambda : 0)\n",
    "   \n",
    "    res = 0\n",
    "   \n",
    "    # Sum of elements so far.\n",
    "    currsum = 0\n",
    "   \n",
    "    for i in range(0, len(arr)): \n",
    "   \n",
    "        # Add current element to sum so far.\n",
    "        currsum += arr[i]\n",
    "   \n",
    "        # If currsum is equal to desired sum,\n",
    "        # then a new subarray is found. So\n",
    "        # increase count of subarrays.\n",
    "        if currsum == k: \n",
    "            res += 1        \n",
    "   \n",
    "        # currsum exceeds given sum by currsum  - sum.\n",
    "        # Find number of subarrays having \n",
    "        # this sum and exclude those subarrays\n",
    "        # from currsum by increasing count by \n",
    "        # same amount.\n",
    "        if (currsum - k) in prevSum:\n",
    "            res += prevSum[currsum - k]\n",
    "           \n",
    "   \n",
    "        # Add currsum value to count of \n",
    "        # different values of sum.\n",
    "        prevSum[currsum] += 1\n",
    "      \n",
    "    return res\n",
    "  "
   ]
  },
  {
   "cell_type": "code",
   "execution_count": null,
   "id": "89c43dcb",
   "metadata": {},
   "outputs": [],
   "source": [
    "arr =  [10, 2, -2, -20, 10] \n",
    "k = -10\n",
    "n = len(arr)\n",
    "print(findSubarraySum(arr, k))\n",
    "arr = [1,2,1,2,1,1,1]\n",
    "k = 3\n",
    "print(findSubarraySum(arr, k))"
   ]
  }
 ],
 "metadata": {
  "kernelspec": {
   "display_name": "Python 3 (ipykernel)",
   "language": "python",
   "name": "python3"
  },
  "language_info": {
   "codemirror_mode": {
    "name": "ipython",
    "version": 3
   },
   "file_extension": ".py",
   "mimetype": "text/x-python",
   "name": "python",
   "nbconvert_exporter": "python",
   "pygments_lexer": "ipython3",
   "version": "3.8.5"
  }
 },
 "nbformat": 4,
 "nbformat_minor": 5
}
